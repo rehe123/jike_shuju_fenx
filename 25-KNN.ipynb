{
 "cells": [
  {
   "cell_type": "code",
   "execution_count": 1,
   "metadata": {},
   "outputs": [
    {
     "name": "stderr",
     "output_type": "stream",
     "text": [
      "/opt/anaconda3/lib/python3.7/importlib/_bootstrap.py:219: RuntimeWarning: numpy.ufunc size changed, may indicate binary incompatibility. Expected 192 from C header, got 216 from PyObject\n",
      "  return f(*args, **kwds)\n",
      "/opt/anaconda3/lib/python3.7/importlib/_bootstrap.py:219: RuntimeWarning: numpy.ufunc size changed, may indicate binary incompatibility. Expected 192 from C header, got 216 from PyObject\n",
      "  return f(*args, **kwds)\n"
     ]
    }
   ],
   "source": [
    "# 手写数字分类\n",
    "import pandas as pd\n",
    "from sklearn import tree,metrics,neighbors,naive_bayes,svm,preprocessing\n",
    "from sklearn.model_selection import train_test_split\n",
    "from sklearn.datasets import load_digits\n",
    "import matplotlib.pyplot as plt"
   ]
  },
  {
   "cell_type": "markdown",
   "metadata": {},
   "source": [
    "### 加载、探索数据"
   ]
  },
  {
   "cell_type": "code",
   "execution_count": 3,
   "metadata": {
    "collapsed": true
   },
   "outputs": [
    {
     "data": {
      "text/plain": [
       "{'data': array([[ 0.,  0.,  5., ...,  0.,  0.,  0.],\n",
       "        [ 0.,  0.,  0., ..., 10.,  0.,  0.],\n",
       "        [ 0.,  0.,  0., ..., 16.,  9.,  0.],\n",
       "        ...,\n",
       "        [ 0.,  0.,  1., ...,  6.,  0.,  0.],\n",
       "        [ 0.,  0.,  2., ..., 12.,  0.,  0.],\n",
       "        [ 0.,  0., 10., ..., 12.,  1.,  0.]]),\n",
       " 'target': array([0, 1, 2, ..., 8, 9, 8]),\n",
       " 'target_names': array([0, 1, 2, 3, 4, 5, 6, 7, 8, 9]),\n",
       " 'images': array([[[ 0.,  0.,  5., ...,  1.,  0.,  0.],\n",
       "         [ 0.,  0., 13., ..., 15.,  5.,  0.],\n",
       "         [ 0.,  3., 15., ..., 11.,  8.,  0.],\n",
       "         ...,\n",
       "         [ 0.,  4., 11., ..., 12.,  7.,  0.],\n",
       "         [ 0.,  2., 14., ..., 12.,  0.,  0.],\n",
       "         [ 0.,  0.,  6., ...,  0.,  0.,  0.]],\n",
       " \n",
       "        [[ 0.,  0.,  0., ...,  5.,  0.,  0.],\n",
       "         [ 0.,  0.,  0., ...,  9.,  0.,  0.],\n",
       "         [ 0.,  0.,  3., ...,  6.,  0.,  0.],\n",
       "         ...,\n",
       "         [ 0.,  0.,  1., ...,  6.,  0.,  0.],\n",
       "         [ 0.,  0.,  1., ...,  6.,  0.,  0.],\n",
       "         [ 0.,  0.,  0., ..., 10.,  0.,  0.]],\n",
       " \n",
       "        [[ 0.,  0.,  0., ..., 12.,  0.,  0.],\n",
       "         [ 0.,  0.,  3., ..., 14.,  0.,  0.],\n",
       "         [ 0.,  0.,  8., ..., 16.,  0.,  0.],\n",
       "         ...,\n",
       "         [ 0.,  9., 16., ...,  0.,  0.,  0.],\n",
       "         [ 0.,  3., 13., ..., 11.,  5.,  0.],\n",
       "         [ 0.,  0.,  0., ..., 16.,  9.,  0.]],\n",
       " \n",
       "        ...,\n",
       " \n",
       "        [[ 0.,  0.,  1., ...,  1.,  0.,  0.],\n",
       "         [ 0.,  0., 13., ...,  2.,  1.,  0.],\n",
       "         [ 0.,  0., 16., ..., 16.,  5.,  0.],\n",
       "         ...,\n",
       "         [ 0.,  0., 16., ..., 15.,  0.,  0.],\n",
       "         [ 0.,  0., 15., ..., 16.,  0.,  0.],\n",
       "         [ 0.,  0.,  2., ...,  6.,  0.,  0.]],\n",
       " \n",
       "        [[ 0.,  0.,  2., ...,  0.,  0.,  0.],\n",
       "         [ 0.,  0., 14., ..., 15.,  1.,  0.],\n",
       "         [ 0.,  4., 16., ..., 16.,  7.,  0.],\n",
       "         ...,\n",
       "         [ 0.,  0.,  0., ..., 16.,  2.,  0.],\n",
       "         [ 0.,  0.,  4., ..., 16.,  2.,  0.],\n",
       "         [ 0.,  0.,  5., ..., 12.,  0.,  0.]],\n",
       " \n",
       "        [[ 0.,  0., 10., ...,  1.,  0.,  0.],\n",
       "         [ 0.,  2., 16., ...,  1.,  0.,  0.],\n",
       "         [ 0.,  0., 15., ..., 15.,  0.,  0.],\n",
       "         ...,\n",
       "         [ 0.,  4., 16., ..., 16.,  6.,  0.],\n",
       "         [ 0.,  8., 16., ..., 16.,  8.,  0.],\n",
       "         [ 0.,  1.,  8., ..., 12.,  1.,  0.]]]),\n",
       " 'DESCR': \".. _digits_dataset:\\n\\nOptical recognition of handwritten digits dataset\\n--------------------------------------------------\\n\\n**Data Set Characteristics:**\\n\\n    :Number of Instances: 5620\\n    :Number of Attributes: 64\\n    :Attribute Information: 8x8 image of integer pixels in the range 0..16.\\n    :Missing Attribute Values: None\\n    :Creator: E. Alpaydin (alpaydin '@' boun.edu.tr)\\n    :Date: July; 1998\\n\\nThis is a copy of the test set of the UCI ML hand-written digits datasets\\nhttps://archive.ics.uci.edu/ml/datasets/Optical+Recognition+of+Handwritten+Digits\\n\\nThe data set contains images of hand-written digits: 10 classes where\\neach class refers to a digit.\\n\\nPreprocessing programs made available by NIST were used to extract\\nnormalized bitmaps of handwritten digits from a preprinted form. From a\\ntotal of 43 people, 30 contributed to the training set and different 13\\nto the test set. 32x32 bitmaps are divided into nonoverlapping blocks of\\n4x4 and the number of on pixels are counted in each block. This generates\\nan input matrix of 8x8 where each element is an integer in the range\\n0..16. This reduces dimensionality and gives invariance to small\\ndistortions.\\n\\nFor info on NIST preprocessing routines, see M. D. Garris, J. L. Blue, G.\\nT. Candela, D. L. Dimmick, J. Geist, P. J. Grother, S. A. Janet, and C.\\nL. Wilson, NIST Form-Based Handprint Recognition System, NISTIR 5469,\\n1994.\\n\\n.. topic:: References\\n\\n  - C. Kaynak (1995) Methods of Combining Multiple Classifiers and Their\\n    Applications to Handwritten Digit Recognition, MSc Thesis, Institute of\\n    Graduate Studies in Science and Engineering, Bogazici University.\\n  - E. Alpaydin, C. Kaynak (1998) Cascading Classifiers, Kybernetika.\\n  - Ken Tang and Ponnuthurai N. Suganthan and Xi Yao and A. Kai Qin.\\n    Linear dimensionalityreduction using relevance weighted LDA. School of\\n    Electrical and Electronic Engineering Nanyang Technological University.\\n    2005.\\n  - Claudio Gentile. A New Approximate Maximal Margin Classification\\n    Algorithm. NIPS. 2000.\"}"
      ]
     },
     "execution_count": 3,
     "metadata": {},
     "output_type": "execute_result"
    }
   ],
   "source": [
    "digits = load_digits()\n",
    "digits"
   ]
  },
  {
   "cell_type": "code",
   "execution_count": 5,
   "metadata": {},
   "outputs": [
    {
     "data": {
      "text/plain": [
       "(1797, 64)"
      ]
     },
     "execution_count": 5,
     "metadata": {},
     "output_type": "execute_result"
    }
   ],
   "source": [
    "data = digits.data\n",
    "data.shape"
   ]
  },
  {
   "cell_type": "code",
   "execution_count": 7,
   "metadata": {},
   "outputs": [
    {
     "name": "stdout",
     "output_type": "stream",
     "text": [
      "[[ 0.  0.  5. 13.  9.  1.  0.  0.]\n",
      " [ 0.  0. 13. 15. 10. 15.  5.  0.]\n",
      " [ 0.  3. 15.  2.  0. 11.  8.  0.]\n",
      " [ 0.  4. 12.  0.  0.  8.  8.  0.]\n",
      " [ 0.  5.  8.  0.  0.  9.  8.  0.]\n",
      " [ 0.  4. 11.  0.  1. 12.  7.  0.]\n",
      " [ 0.  2. 14.  5. 10. 12.  0.  0.]\n",
      " [ 0.  0.  6. 13. 10.  0.  0.  0.]]\n",
      "0\n"
     ]
    }
   ],
   "source": [
    "# 第一幅图像，手写字体,上面data中的64列，就是8*8的像素值的列表\n",
    "print(digits.images[0])\n",
    "print(digits.target[0])"
   ]
  },
  {
   "cell_type": "code",
   "execution_count": 10,
   "metadata": {},
   "outputs": [
    {
     "data": {
      "image/png": "[encoded data removed]",
      "text/plain": [
       "<Figure size 432x288 with 1 Axes>"
      ]
     },
     "metadata": {
      "needs_background": "light"
     },
     "output_type": "display_data"
    }
   ],
   "source": [
    "plt.gray()\n",
    "plt.imshow(digits.images[0])"
   ]
  },
  {
   "cell_type": "code",
   "execution_count": 12,
   "metadata": {},
   "outputs": [
    {
     "data": {
      "text/plain": [
       "<matplotlib.image.AxesImage at 0x1a1d244b10>"
      ]
     },
     "execution_count": 12,
     "metadata": {},
     "output_type": "execute_result"
    },
    {
     "data": {
      "image/png": "[encoded data removed]",
      "text/plain": [
       "<Figure size 432x288 with 1 Axes>"
      ]
     },
     "metadata": {
      "needs_background": "light"
     },
     "output_type": "display_data"
    }
   ],
   "source": [
    "plt.imshow(digits.images[111])"
   ]
  },
  {
   "cell_type": "markdown",
   "metadata": {},
   "source": [
    "### 数据分割、模型构建"
   ]
  },
  {
   "cell_type": "code",
   "execution_count": 13,
   "metadata": {},
   "outputs": [
    {
     "data": {
      "text/plain": [
       "array([0, 1, 2, ..., 8, 9, 8])"
      ]
     },
     "execution_count": 13,
     "metadata": {},
     "output_type": "execute_result"
    }
   ],
   "source": [
    "y = digits.target\n",
    "y"
   ]
  },
  {
   "cell_type": "code",
   "execution_count": 14,
   "metadata": {},
   "outputs": [],
   "source": [
    "X_train, X_test, y_train, y_test = train_test_split(data, y, test_size=0.33, random_state=42)"
   ]
  },
  {
   "cell_type": "code",
   "execution_count": 15,
   "metadata": {},
   "outputs": [],
   "source": [
    "# 采用Z-Score规范化\n",
    "ss = preprocessing.StandardScaler()\n"
   ]
  },
  {
   "cell_type": "code",
   "execution_count": 16,
   "metadata": {},
   "outputs": [],
   "source": [
    "X_train_ss = ss.fit_transform(X_train)\n",
    "X_test_ss = ss.transform(X_test)"
   ]
  },
  {
   "cell_type": "code",
   "execution_count": 18,
   "metadata": {},
   "outputs": [
    {
     "name": "stdout",
     "output_type": "stream",
     "text": [
      "              precision    recall  f1-score   support\n",
      "\n",
      "           0       1.00      1.00      1.00        55\n",
      "           1       0.98      1.00      0.99        55\n",
      "           2       0.98      0.98      0.98        52\n",
      "           3       0.95      0.98      0.96        56\n",
      "           4       0.98      0.98      0.98        64\n",
      "           5       0.97      0.97      0.97        73\n",
      "           6       0.97      1.00      0.98        57\n",
      "           7       0.98      0.97      0.98        62\n",
      "           8       0.98      0.98      0.98        52\n",
      "           9       0.97      0.91      0.94        68\n",
      "\n",
      "    accuracy                           0.98       594\n",
      "   macro avg       0.98      0.98      0.98       594\n",
      "weighted avg       0.98      0.98      0.98       594\n",
      "\n"
     ]
    }
   ],
   "source": [
    "# KNN分类器 n = 5,这里的五个是取距离最近的五个数据，\n",
    "knn5 = neighbors.KNeighborsClassifier(n_neighbors=5)\n",
    "knn5.fit(X_train_ss,y_train)\n",
    "y_knn5_pred = knn5.predict(X_test_ss)\n",
    "print(metrics.classification_report(y_test,y_knn5_pred))"
   ]
  },
  {
   "cell_type": "code",
   "execution_count": 31,
   "metadata": {},
   "outputs": [
    {
     "name": "stdout",
     "output_type": "stream",
     "text": [
      "              precision    recall  f1-score   support\n",
      "\n",
      "           0       1.00      1.00      1.00        55\n",
      "           1       1.00      1.00      1.00        55\n",
      "           2       1.00      1.00      1.00        52\n",
      "           3       0.98      1.00      0.99        56\n",
      "           4       0.98      1.00      0.99        64\n",
      "           5       0.99      0.99      0.99        73\n",
      "           6       1.00      1.00      1.00        57\n",
      "           7       1.00      1.00      1.00        62\n",
      "           8       1.00      1.00      1.00        52\n",
      "           9       0.98      0.96      0.97        68\n",
      "\n",
      "    accuracy                           0.99       594\n",
      "   macro avg       0.99      0.99      0.99       594\n",
      "weighted avg       0.99      0.99      0.99       594\n",
      "\n"
     ]
    }
   ],
   "source": [
    "# KNN分类器 n = 5,这里的五个是取距离最近的五个数据，\n",
    "knn50 = neighbors.KNeighborsClassifier(n_neighbors=5)\n",
    "knn50.fit(X_train,y_train)\n",
    "y_knn50_pred = knn50.predict(X_test)\n",
    "print(metrics.classification_report(y_test,y_knn50_pred))"
   ]
  },
  {
   "cell_type": "code",
   "execution_count": 20,
   "metadata": {},
   "outputs": [
    {
     "name": "stdout",
     "output_type": "stream",
     "text": [
      "              precision    recall  f1-score   support\n",
      "\n",
      "           0       0.98      1.00      0.99        55\n",
      "           1       0.95      1.00      0.97        55\n",
      "           2       0.98      1.00      0.99        52\n",
      "           3       0.98      0.95      0.96        56\n",
      "           4       0.97      0.98      0.98        64\n",
      "           5       0.97      0.96      0.97        73\n",
      "           6       0.97      0.98      0.97        57\n",
      "           7       0.97      0.97      0.97        62\n",
      "           8       0.98      0.94      0.96        52\n",
      "           9       0.97      0.94      0.96        68\n",
      "\n",
      "    accuracy                           0.97       594\n",
      "   macro avg       0.97      0.97      0.97       594\n",
      "weighted avg       0.97      0.97      0.97       594\n",
      "\n"
     ]
    }
   ],
   "source": [
    "# KNN分类器 n = 10\n",
    "knn10 = neighbors.KNeighborsClassifier(n_neighbors=10)\n",
    "knn10.fit(X_train_ss,y_train)\n",
    "y_knn10_pred = knn10.predict(X_test_ss)\n",
    "print(metrics.classification_report(y_test,y_knn10_pred))"
   ]
  },
  {
   "cell_type": "code",
   "execution_count": 32,
   "metadata": {},
   "outputs": [
    {
     "name": "stdout",
     "output_type": "stream",
     "text": [
      "              precision    recall  f1-score   support\n",
      "\n",
      "           0       0.77      1.00      0.87        55\n",
      "           1       0.73      0.73      0.73        55\n",
      "           2       0.84      0.83      0.83        52\n",
      "           3       0.70      0.88      0.78        56\n",
      "           4       0.98      0.83      0.90        64\n",
      "           5       0.98      0.67      0.80        73\n",
      "           6       0.90      0.96      0.93        57\n",
      "           7       0.90      1.00      0.95        62\n",
      "           8       0.80      0.77      0.78        52\n",
      "           9       0.68      0.63      0.66        68\n",
      "\n",
      "    accuracy                           0.82       594\n",
      "   macro avg       0.83      0.83      0.82       594\n",
      "weighted avg       0.83      0.82      0.82       594\n",
      "\n"
     ]
    }
   ],
   "source": [
    "# KNN分类器 n = 200\n",
    "knn200 = neighbors.KNeighborsClassifier(n_neighbors=200)\n",
    "knn200.fit(X_train_ss,y_train)\n",
    "y_knn200_pred = knn200.predict(X_test_ss)\n",
    "print(metrics.classification_report(y_test,y_knn200_pred))\n",
    "# 随着n的增加，效果变差，"
   ]
  },
  {
   "cell_type": "code",
   "execution_count": 23,
   "metadata": {},
   "outputs": [
    {
     "name": "stdout",
     "output_type": "stream",
     "text": [
      "              precision    recall  f1-score   support\n",
      "\n",
      "           0       1.00      1.00      1.00        55\n",
      "           1       1.00      1.00      1.00        55\n",
      "           2       0.95      1.00      0.97        52\n",
      "           3       0.96      0.95      0.95        56\n",
      "           4       0.98      1.00      0.99        64\n",
      "           5       0.97      0.99      0.98        73\n",
      "           6       0.98      1.00      0.99        57\n",
      "           7       1.00      0.98      0.99        62\n",
      "           8       0.98      0.96      0.97        52\n",
      "           9       0.98      0.94      0.96        68\n",
      "\n",
      "    accuracy                           0.98       594\n",
      "   macro avg       0.98      0.98      0.98       594\n",
      "weighted avg       0.98      0.98      0.98       594\n",
      "\n"
     ]
    },
    {
     "name": "stderr",
     "output_type": "stream",
     "text": [
      "/opt/anaconda3/lib/python3.7/site-packages/sklearn/svm/base.py:193: FutureWarning: The default value of gamma will change from 'auto' to 'scale' in version 0.22 to account better for unscaled features. Set gamma explicitly to 'auto' or 'scale' to avoid this warning.\n",
      "  \"avoid this warning.\", FutureWarning)\n"
     ]
    }
   ],
   "source": [
    "# 创建SVM分类器\n",
    "mlsvm = svm.SVC()\n",
    "mlsvm.fit(X_train_ss,y_train)\n",
    "y_mlsvm_pred = mlsvm.predict(X_test_ss)\n",
    "print(metrics.classification_report(y_test,y_mlsvm_pred))"
   ]
  },
  {
   "cell_type": "code",
   "execution_count": 24,
   "metadata": {},
   "outputs": [],
   "source": [
    "# 采用Min-Max规范化\n",
    "mm = preprocessing.MinMaxScaler()\n",
    "X_train_mm = mm.fit_transform(X_train)\n",
    "X_test_mm = mm.transform(X_test)"
   ]
  },
  {
   "cell_type": "code",
   "execution_count": 26,
   "metadata": {},
   "outputs": [
    {
     "name": "stdout",
     "output_type": "stream",
     "text": [
      "              precision    recall  f1-score   support\n",
      "\n",
      "           0       0.98      0.98      0.98        55\n",
      "           1       0.88      0.67      0.76        55\n",
      "           2       0.86      0.92      0.89        52\n",
      "           3       0.96      0.86      0.91        56\n",
      "           4       0.95      0.97      0.96        64\n",
      "           5       1.00      0.73      0.84        73\n",
      "           6       0.97      0.98      0.97        57\n",
      "           7       0.91      1.00      0.95        62\n",
      "           8       0.77      0.94      0.84        52\n",
      "           9       0.70      0.85      0.77        68\n",
      "\n",
      "    accuracy                           0.89       594\n",
      "   macro avg       0.90      0.89      0.89       594\n",
      "weighted avg       0.90      0.89      0.89       594\n",
      "\n"
     ]
    }
   ],
   "source": [
    "# 创建Naive Bayes分类器\n",
    "mnb = naive_bayes.MultinomialNB()\n",
    "mnb.fit(X_train_mm,y_train)\n",
    "y_mnb_pred = mnb.predict(X_test_mm)\n",
    "print(metrics.classification_report(y_test,y_mnb_pred))"
   ]
  },
  {
   "cell_type": "code",
   "execution_count": 27,
   "metadata": {},
   "outputs": [
    {
     "name": "stdout",
     "output_type": "stream",
     "text": [
      "              precision    recall  f1-score   support\n",
      "\n",
      "           0       0.98      0.95      0.96        55\n",
      "           1       0.82      0.76      0.79        55\n",
      "           2       0.79      0.79      0.79        52\n",
      "           3       0.80      0.77      0.78        56\n",
      "           4       0.82      0.88      0.85        64\n",
      "           5       0.91      0.82      0.86        73\n",
      "           6       0.85      0.96      0.90        57\n",
      "           7       0.90      0.89      0.89        62\n",
      "           8       0.83      0.83      0.83        52\n",
      "           9       0.78      0.82      0.80        68\n",
      "\n",
      "    accuracy                           0.85       594\n",
      "   macro avg       0.85      0.85      0.85       594\n",
      "weighted avg       0.85      0.85      0.85       594\n",
      "\n"
     ]
    }
   ],
   "source": [
    "# 创建CART决策树分类器\n",
    "dtc = tree.DecisionTreeClassifier()\n",
    "dtc.fit(X_train_mm,y_train)\n",
    "y_dtc_pred = dtc.predict(X_test_mm)\n",
    "print(metrics.classification_report(y_test,y_dtc_pred))"
   ]
  },
  {
   "cell_type": "code",
   "execution_count": 29,
   "metadata": {},
   "outputs": [
    {
     "name": "stdout",
     "output_type": "stream",
     "text": [
      "              precision    recall  f1-score   support\n",
      "\n",
      "           0       0.98      0.95      0.96        55\n",
      "           1       0.73      0.73      0.73        55\n",
      "           2       0.88      0.81      0.84        52\n",
      "           3       0.83      0.80      0.82        56\n",
      "           4       0.71      0.80      0.75        64\n",
      "           5       0.89      0.85      0.87        73\n",
      "           6       0.89      0.98      0.93        57\n",
      "           7       0.87      0.89      0.88        62\n",
      "           8       0.78      0.77      0.78        52\n",
      "           9       0.83      0.79      0.81        68\n",
      "\n",
      "    accuracy                           0.84       594\n",
      "   macro avg       0.84      0.84      0.84       594\n",
      "weighted avg       0.84      0.84      0.84       594\n",
      "\n"
     ]
    }
   ],
   "source": [
    "dtc0 = tree.DecisionTreeClassifier()\n",
    "dtc0.fit(X_train,y_train)\n",
    "y_dtc0_pred = dtc0.predict(X_test)\n",
    "print(metrics.classification_report(y_test,y_dtc0_pred))"
   ]
  },
  {
   "cell_type": "code",
   "execution_count": 30,
   "metadata": {},
   "outputs": [
    {
     "name": "stdout",
     "output_type": "stream",
     "text": [
      "              precision    recall  f1-score   support\n",
      "\n",
      "           0       0.98      0.95      0.96        55\n",
      "           1       0.78      0.76      0.77        55\n",
      "           2       0.87      0.90      0.89        52\n",
      "           3       0.83      0.80      0.82        56\n",
      "           4       0.81      0.81      0.81        64\n",
      "           5       0.92      0.89      0.90        73\n",
      "           6       0.88      0.98      0.93        57\n",
      "           7       0.95      0.89      0.92        62\n",
      "           8       0.82      0.81      0.82        52\n",
      "           9       0.83      0.87      0.85        68\n",
      "\n",
      "    accuracy                           0.87       594\n",
      "   macro avg       0.87      0.87      0.87       594\n",
      "weighted avg       0.87      0.87      0.87       594\n",
      "\n"
     ]
    }
   ],
   "source": [
    "dtc1 = tree.DecisionTreeClassifier()\n",
    "dtc1.fit(X_train_ss,y_train)\n",
    "y_dtc1_pred = dtc1.predict(X_test_ss)\n",
    "print(metrics.classification_report(y_test,y_dtc1_pred))"
   ]
  },
  {
   "cell_type": "code",
   "execution_count": null,
   "metadata": {},
   "outputs": [],
   "source": [
    "# 可以看出knn和svm效果比较好，朴素贝叶斯和决策树次之；对特征的标准化，对决策树影响不大"
   ]
  }
 ],
 "metadata": {
  "kernelspec": {
   "display_name": "Python 3",
   "language": "python",
   "name": "python3"
  },
  "language_info": {
   "codemirror_mode": {
    "name": "ipython",
    "version": 3
   },
   "file_extension": ".py",
   "mimetype": "text/x-python",
   "name": "python",
   "nbconvert_exporter": "python",
   "pygments_lexer": "ipython3",
   "version": "3.7.4"
  }
 },
 "nbformat": 4,
 "nbformat_minor": 2
}
