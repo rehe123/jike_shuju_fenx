{
 "cells": [
  {
   "cell_type": "code",
   "execution_count": 1,
   "metadata": {},
   "outputs": [
    {
     "name": "stdout",
     "output_type": "stream",
     "text": [
      "{1: {('尿布',): 5, ('面包',): 4, ('牛奶',): 4, ('啤酒',): 3}, 2: {('尿布', '牛奶'): 4, ('尿布', '面包'): 4, ('牛奶', '面包'): 3, ('啤酒', '尿布'): 3}, 3: {('尿布', '牛奶', '面包'): 3}}\n",
      "[{牛奶} -> {尿布}, {面包} -> {尿布}, {啤酒} -> {尿布}, {牛奶, 面包} -> {尿布}]\n"
     ]
    }
   ],
   "source": [
    "# 课程案例\n",
    "from efficient_apriori import apriori\n",
    "# 设置数据集\n",
    "data = [('牛奶','面包','尿布'),\n",
    "           ('可乐','面包', '尿布', '啤酒'),\n",
    "           ('牛奶','尿布', '啤酒', '鸡蛋'),\n",
    "           ('面包', '牛奶', '尿布', '啤酒'),\n",
    "           ('面包', '牛奶', '尿布', '可乐')]\n",
    "# 挖掘频繁项集和频繁规则\n",
    "itemsets, rules = apriori(data, min_support=0.5,  min_confidence=1)\n",
    "print(itemsets)\n",
    "print(rules)\n"
   ]
  },
  {
   "cell_type": "markdown",
   "metadata": {},
   "source": [
    "### 案例2"
   ]
  },
  {
   "cell_type": "code",
   "execution_count": 3,
   "metadata": {},
   "outputs": [
    {
     "name": "stdout",
     "output_type": "stream",
     "text": [
      "Collecting selenium\n",
      "\u001b[33m  WARNING: Retrying (Retry(total=4, connect=None, read=None, redirect=None, status=None)) after connection broken by 'ConnectTimeoutError(<pip._vendor.urllib3.connection.VerifiedHTTPSConnection object at 0x104e8f650>, 'Connection to pypi.org timed out. (connect timeout=15)')': /simple/selenium/\u001b[0m\n",
      "\u001b[33m  WARNING: Retrying (Retry(total=3, connect=None, read=None, redirect=None, status=None)) after connection broken by 'ConnectTimeoutError(<pip._vendor.urllib3.connection.VerifiedHTTPSConnection object at 0x104d1b650>, 'Connection to pypi.org timed out. (connect timeout=15)')': /simple/selenium/\u001b[0m\n",
      "\u001b[33m  WARNING: Retrying (Retry(total=2, connect=None, read=None, redirect=None, status=None)) after connection broken by 'ConnectTimeoutError(<pip._vendor.urllib3.connection.VerifiedHTTPSConnection object at 0x104d1b550>, 'Connection to pypi.org timed out. (connect timeout=15)')': /simple/selenium/\u001b[0m\n",
      "\u001b[33m  WARNING: Retrying (Retry(total=1, connect=None, read=None, redirect=None, status=None)) after connection broken by 'ConnectTimeoutError(<pip._vendor.urllib3.connection.VerifiedHTTPSConnection object at 0x104d1b490>, 'Connection to pypi.org timed out. (connect timeout=15)')': /simple/selenium/\u001b[0m\n",
      "\u001b[?25l  Downloading https://files.pythonhosted.org/packages/80/d6/4294f0b4bce4de0abf13e17190289f9d0613b0a44e5dd6a7f5ca98459853/selenium-3.141.0-py2.py3-none-any.whl (904kB)\n",
      "\u001b[K     |████████████████████████████████| 911kB 7.1kB/s eta 0:00:01\n",
      "\u001b[?25hRequirement already satisfied: urllib3 in /opt/anaconda3/lib/python3.7/site-packages (from selenium) (1.24.2)\n",
      "Installing collected packages: selenium\n",
      "Successfully installed selenium-3.141.0\n",
      "Note: you may need to restart the kernel to use updated packages.\n"
     ]
    }
   ],
   "source": [
    "pip install selenium"
   ]
  },
  {
   "cell_type": "code",
   "execution_count": 2,
   "metadata": {},
   "outputs": [
    {
     "ename": "ModuleNotFoundError",
     "evalue": "No module named 'selenium'",
     "output_type": "error",
     "traceback": [
      "\u001b[0;31m---------------------------------------------------------------------------\u001b[0m",
      "\u001b[0;31mModuleNotFoundError\u001b[0m                       Traceback (most recent call last)",
      "\u001b[0;32m<ipython-input-2-880a55eaa053>\u001b[0m in \u001b[0;36m<module>\u001b[0;34m\u001b[0m\n\u001b[1;32m      4\u001b[0m \u001b[0;32mfrom\u001b[0m \u001b[0mlxml\u001b[0m \u001b[0;32mimport\u001b[0m \u001b[0metree\u001b[0m\u001b[0;34m\u001b[0m\u001b[0;34m\u001b[0m\u001b[0m\n\u001b[1;32m      5\u001b[0m \u001b[0;32mimport\u001b[0m \u001b[0mtime\u001b[0m\u001b[0;34m\u001b[0m\u001b[0;34m\u001b[0m\u001b[0m\n\u001b[0;32m----> 6\u001b[0;31m \u001b[0;32mfrom\u001b[0m \u001b[0mselenium\u001b[0m \u001b[0;32mimport\u001b[0m \u001b[0mwebdriver\u001b[0m\u001b[0;34m\u001b[0m\u001b[0;34m\u001b[0m\u001b[0m\n\u001b[0m\u001b[1;32m      7\u001b[0m \u001b[0;32mimport\u001b[0m \u001b[0mcsv\u001b[0m\u001b[0;34m\u001b[0m\u001b[0;34m\u001b[0m\u001b[0m\n\u001b[1;32m      8\u001b[0m \u001b[0mdriver\u001b[0m \u001b[0;34m=\u001b[0m \u001b[0mwebdriver\u001b[0m\u001b[0;34m.\u001b[0m\u001b[0mChrome\u001b[0m\u001b[0;34m(\u001b[0m\u001b[0;34m)\u001b[0m\u001b[0;34m\u001b[0m\u001b[0;34m\u001b[0m\u001b[0m\n",
      "\u001b[0;31mModuleNotFoundError\u001b[0m: No module named 'selenium'"
     ]
    }
   ],
   "source": [
    "\n",
    "# -*- coding: utf-8 -*-\n",
    "# 下载某个导演的电影数据集\n",
    "from efficient_apriori import apriori\n",
    "from lxml import etree\n",
    "import time\n",
    "from selenium import webdriver\n",
    "import csv\n",
    "driver = webdriver.Chrome()\n",
    "# 设置想要下载的导演 数据集\n",
    "director = u'宁浩'\n",
    "# 写CSV文件\n",
    "file_name = './' + director + '.csv'\n",
    "base_url = 'https://movie.douban.com/subject_search?search_text='+director+'&cat=1002&start='\n",
    "out = open(file_name,'w', newline='', encoding='utf-8-sig')\n",
    "csv_write = csv.writer(out, dialect='excel')\n",
    "flags=[]\n",
    "# 下载指定页面的数据\n",
    "def download(request_url):\n",
    "  driver.get(request_url)\n",
    "  time.sleep(1)\n",
    "  html = driver.find_element_by_xpath(\"//*\").get_attribute(\"outerHTML\")\n",
    "  html = etree.HTML(html)\n",
    "  # 设置电影名称，导演演员 的XPATH\n",
    "  movie_lists = html.xpath(\"/html/body/div[@id='wrapper']/div[@id='root']/div[1]//div[@class='item-root']/div[@class='detail']/div[@class='title']/a[@class='title-text']\")\n",
    "  name_lists = html.xpath(\"/html/body/div[@id='wrapper']/div[@id='root']/div[1]//div[@class='item-root']/div[@class='detail']/div[@class='meta abstract_2']\")\n",
    "  # 获取返回的数据个数\n",
    "  num = len(movie_lists)\n",
    "  if num > 15: #第一页会有16条数据\n",
    "    # 默认第一个不是，所以需要去掉\n",
    "    movie_lists = movie_lists[1:]\n",
    "    name_lists = name_lists[1:]\n",
    "  for (movie, name_list) in zip(movie_lists, name_lists):\n",
    "    # 会存在数据为空的情况\n",
    "    if name_list.text is None: \n",
    "      continue\n",
    "    # 显示下演员名称\n",
    "    print(name_list.text)\n",
    "    names = name_list.text.split('/')\n",
    "    # 判断导演是否为指定的director\n",
    "    if names[0].strip() == director and movie.text not in flags:\n",
    "      # 将第一个字段设置为电影名称\n",
    "      names[0] = movie.text\n",
    "      flags.append(movie.text)\n",
    "      csv_write.writerow(names)\n",
    "  print('OK') # 代表这页数据下载成功\n",
    "  print(num)\n",
    "  if num >= 14: #有可能一页会有14个电影\n",
    "    # 继续下一页\n",
    "    return True\n",
    "  else:\n",
    "    # 没有下一页\n",
    "    return False\n",
    "\n",
    "# 开始的ID为0，每页增加15\n",
    "start = 0\n",
    "while start<10000: #最多抽取1万部电影\n",
    "  request_url = base_url + str(start)\n",
    "  # 下载数据，并返回是否有下一页\n",
    "  flag = download(request_url)\n",
    "  if flag:\n",
    "    start = start + 15\n",
    "  else:\n",
    "    break\n",
    "out.close()\n",
    "print('finished')"
   ]
  },
  {
   "cell_type": "code",
   "execution_count": null,
   "metadata": {},
   "outputs": [],
   "source": []
  }
 ],
 "metadata": {
  "kernelspec": {
   "display_name": "Python 3",
   "language": "python",
   "name": "python3"
  },
  "language_info": {
   "codemirror_mode": {
    "name": "ipython",
    "version": 3
   },
   "file_extension": ".py",
   "mimetype": "text/x-python",
   "name": "python",
   "nbconvert_exporter": "python",
   "pygments_lexer": "ipython3",
   "version": "3.7.4"
  }
 },
 "nbformat": 4,
 "nbformat_minor": 2
}
