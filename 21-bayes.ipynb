{
 "cells": [
  {
   "cell_type": "markdown",
   "metadata": {},
   "source": [
    "# 朴素贝叶斯课程案例"
   ]
  },
  {
   "cell_type": "markdown",
   "metadata": {},
   "source": [
    "### TFIDF计算"
   ]
  },
  {
   "cell_type": "code",
   "execution_count": 36,
   "metadata": {},
   "outputs": [],
   "source": [
    "from sklearn.feature_extraction.text import TfidfVectorizer\n",
    "import pandas as pd\n",
    "tfidf_vec = TfidfVectorizer()"
   ]
  },
  {
   "cell_type": "code",
   "execution_count": 37,
   "metadata": {},
   "outputs": [],
   "source": [
    "documents = [\n",
    "    'this is the bayes document',\n",
    "    'this is the bayes document',\n",
    "    'this is the second second document',\n",
    "    'and the third one',\n",
    "    'is this the document'\n",
    "]\n",
    "tfidf_feautres = tfidf_vec.fit_transform(documents)"
   ]
  },
  {
   "cell_type": "code",
   "execution_count": 38,
   "metadata": {},
   "outputs": [
    {
     "name": "stdout",
     "output_type": "stream",
     "text": [
      "{'this': 8, 'is': 3, 'the': 6, 'bayes': 1, 'document': 2, 'second': 5, 'and': 0, 'third': 7, 'one': 4}\n"
     ]
    }
   ],
   "source": [
    "# tfidf 挑选出来的单词，即特征维度；以及单词对应的id\n",
    "print(tfidf_vec.vocabulary_)"
   ]
  },
  {
   "cell_type": "code",
   "execution_count": 39,
   "metadata": {},
   "outputs": [
    {
     "data": {
      "text/plain": [
       "['bayes', 'second', 'this', 'the', 'third', 'and', 'one', 'document', 'is']"
      ]
     },
     "execution_count": 39,
     "metadata": {},
     "output_type": "execute_result"
    }
   ],
   "source": [
    "tfidf_words= sorted(tfidf_vec.vocabulary_,key= lambda x :x[1])\n",
    "tfidf_words # 挑选出来的单词按照id排序，即多少个维度,选取了9个单词，即9个特征维度"
   ]
  },
  {
   "cell_type": "code",
   "execution_count": 48,
   "metadata": {},
   "outputs": [
    {
     "data": {
      "text/html": [
       "<div>\n",
       "<style scoped>\n",
       "    .dataframe tbody tr th:only-of-type {\n",
       "        vertical-align: middle;\n",
       "    }\n",
       "\n",
       "    .dataframe tbody tr th {\n",
       "        vertical-align: top;\n",
       "    }\n",
       "\n",
       "    .dataframe thead th {\n",
       "        text-align: right;\n",
       "    }\n",
       "</style>\n",
       "<table border=\"1\" class=\"dataframe\">\n",
       "  <thead>\n",
       "    <tr style=\"text-align: right;\">\n",
       "      <th></th>\n",
       "      <th>bayes</th>\n",
       "      <th>second</th>\n",
       "      <th>this</th>\n",
       "      <th>the</th>\n",
       "      <th>third</th>\n",
       "      <th>and</th>\n",
       "      <th>one</th>\n",
       "      <th>document</th>\n",
       "      <th>is</th>\n",
       "    </tr>\n",
       "  </thead>\n",
       "  <tbody>\n",
       "    <tr>\n",
       "      <td>0</td>\n",
       "      <td>0.000000</td>\n",
       "      <td>0.596371</td>\n",
       "      <td>0.416445</td>\n",
       "      <td>0.416445</td>\n",
       "      <td>0.000000</td>\n",
       "      <td>0.000000</td>\n",
       "      <td>0.352226</td>\n",
       "      <td>0.000000</td>\n",
       "      <td>0.416445</td>\n",
       "    </tr>\n",
       "    <tr>\n",
       "      <td>1</td>\n",
       "      <td>0.000000</td>\n",
       "      <td>0.596371</td>\n",
       "      <td>0.416445</td>\n",
       "      <td>0.416445</td>\n",
       "      <td>0.000000</td>\n",
       "      <td>0.000000</td>\n",
       "      <td>0.352226</td>\n",
       "      <td>0.000000</td>\n",
       "      <td>0.416445</td>\n",
       "    </tr>\n",
       "    <tr>\n",
       "      <td>2</td>\n",
       "      <td>0.000000</td>\n",
       "      <td>0.000000</td>\n",
       "      <td>0.247554</td>\n",
       "      <td>0.247554</td>\n",
       "      <td>0.000000</td>\n",
       "      <td>0.878813</td>\n",
       "      <td>0.209379</td>\n",
       "      <td>0.000000</td>\n",
       "      <td>0.247554</td>\n",
       "    </tr>\n",
       "    <tr>\n",
       "      <td>3</td>\n",
       "      <td>0.556669</td>\n",
       "      <td>0.000000</td>\n",
       "      <td>0.000000</td>\n",
       "      <td>0.000000</td>\n",
       "      <td>0.556669</td>\n",
       "      <td>0.000000</td>\n",
       "      <td>0.265256</td>\n",
       "      <td>0.556669</td>\n",
       "      <td>0.000000</td>\n",
       "    </tr>\n",
       "    <tr>\n",
       "      <td>4</td>\n",
       "      <td>0.000000</td>\n",
       "      <td>0.000000</td>\n",
       "      <td>0.518799</td>\n",
       "      <td>0.518799</td>\n",
       "      <td>0.000000</td>\n",
       "      <td>0.000000</td>\n",
       "      <td>0.438797</td>\n",
       "      <td>0.000000</td>\n",
       "      <td>0.518799</td>\n",
       "    </tr>\n",
       "  </tbody>\n",
       "</table>\n",
       "</div>"
      ],
      "text/plain": [
       "      bayes    second      this       the     third       and       one  \\\n",
       "0  0.000000  0.596371  0.416445  0.416445  0.000000  0.000000  0.352226   \n",
       "1  0.000000  0.596371  0.416445  0.416445  0.000000  0.000000  0.352226   \n",
       "2  0.000000  0.000000  0.247554  0.247554  0.000000  0.878813  0.209379   \n",
       "3  0.556669  0.000000  0.000000  0.000000  0.556669  0.000000  0.265256   \n",
       "4  0.000000  0.000000  0.518799  0.518799  0.000000  0.000000  0.438797   \n",
       "\n",
       "   document        is  \n",
       "0  0.000000  0.416445  \n",
       "1  0.000000  0.416445  \n",
       "2  0.000000  0.247554  \n",
       "3  0.556669  0.000000  \n",
       "4  0.000000  0.518799  "
      ]
     },
     "execution_count": 48,
     "metadata": {},
     "output_type": "execute_result"
    }
   ],
   "source": [
    "# 案例中的五个句子在九个特征维度下的值，5*9的特征矩阵，有了每个句子的特征参数后续就可以构建模型进行预测了\n",
    "pd.DataFrame(tfidf_feautres.toarray(),columns=tfidf_words)"
   ]
  },
  {
   "cell_type": "code",
   "execution_count": 41,
   "metadata": {},
   "outputs": [
    {
     "name": "stdout",
     "output_type": "stream",
     "text": [
      "  (0, 2)\t0.4164446683974105\n",
      "  (0, 1)\t0.596370853685768\n",
      "  (0, 6)\t0.35222623321413826\n",
      "  (0, 3)\t0.4164446683974105\n",
      "  (0, 8)\t0.4164446683974105\n",
      "  (1, 2)\t0.4164446683974105\n",
      "  (1, 1)\t0.596370853685768\n",
      "  (1, 6)\t0.35222623321413826\n",
      "  (1, 3)\t0.4164446683974105\n",
      "  (1, 8)\t0.4164446683974105\n",
      "  (2, 5)\t0.8788125732926098\n",
      "  (2, 2)\t0.24755383721803342\n",
      "  (2, 6)\t0.209379449943646\n",
      "  (2, 3)\t0.24755383721803342\n",
      "  (2, 8)\t0.24755383721803342\n",
      "  (3, 4)\t0.5566685141652766\n",
      "  (3, 7)\t0.5566685141652766\n",
      "  (3, 0)\t0.5566685141652766\n",
      "  (3, 6)\t0.26525552965220073\n",
      "  (4, 2)\t0.5187990255581663\n",
      "  (4, 6)\t0.4387968929239259\n",
      "  (4, 3)\t0.5187990255581663\n",
      "  (4, 8)\t0.5187990255581663\n"
     ]
    }
   ],
   "source": [
    "# 这里的结果，是上面的二维矩阵的缩略版，(0,2) 0.416 的意思是第0行，中的第2列的值为0.416；\n",
    "# 即第0个句子命中了第2个特征(\"this\")，该特征的对应tfidf的值为0.41\n",
    "print(tfidf_feautres)"
   ]
  },
  {
   "cell_type": "code",
   "execution_count": null,
   "metadata": {},
   "outputs": [],
   "source": []
  }
 ],
 "metadata": {
  "kernelspec": {
   "display_name": "Python 3",
   "language": "python",
   "name": "python3"
  },
  "language_info": {
   "codemirror_mode": {
    "name": "ipython",
    "version": 3
   },
   "file_extension": ".py",
   "mimetype": "text/x-python",
   "name": "python",
   "nbconvert_exporter": "python",
   "pygments_lexer": "ipython3",
   "version": "3.7.4"
  }
 },
 "nbformat": 4,
 "nbformat_minor": 2
}
