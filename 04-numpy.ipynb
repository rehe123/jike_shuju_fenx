{
 "cells": [
  {
   "cell_type": "markdown",
   "metadata": {},
   "source": [
    "## numpy数组使用"
   ]
  },
  {
   "cell_type": "code",
   "execution_count": 5,
   "metadata": {},
   "outputs": [],
   "source": [
    "import numpy as np"
   ]
  },
  {
   "cell_type": "code",
   "execution_count": 6,
   "metadata": {},
   "outputs": [
    {
     "name": "stdout",
     "output_type": "stream",
     "text": [
      "(3,) (3, 3) int64 int64\n"
     ]
    }
   ],
   "source": [
    "a = np.array([1, 2, 3])\n",
    "b = np.array([[1, 2, 3], [4, 5, 6], [7, 8, 9]])\n",
    "print(a.shape,b.shape,a.dtype,b.dtype)"
   ]
  },
  {
   "cell_type": "markdown",
   "metadata": {},
   "source": [
    "### 结构数组"
   ]
  },
  {
   "cell_type": "code",
   "execution_count": 10,
   "metadata": {},
   "outputs": [
    {
     "data": {
      "text/plain": [
       "array([(b'ZhangFei', 32, 75, 100,  90. ), (b'GuanYu', 24, 85,  96,  88.5),\n",
       "       (b'ZhaoYun', 28, 85,  92,  96.5),\n",
       "       (b'HuangZhong', 29, 65,  85, 100. )],\n",
       "      dtype=[('name', 'S32'), ('age', '<i4'), ('chinese', '<i4'), ('math', '<i4'), ('english', '<f4')])"
      ]
     },
     "execution_count": 10,
     "metadata": {},
     "output_type": "execute_result"
    }
   ],
   "source": [
    "persontype = np.dtype({ 'names':['name', 'age', 'chinese', 'math', 'english'], 'formats':['S32','i', 'i', 'i', 'f']})\n",
    "peoples = np.array([(\"ZhangFei\",32,75,100, 90),(\"GuanYu\",24,85,96,88.5), \n",
    "                    (\"ZhaoYun\",28,85,92,96.5),(\"HuangZhong\",29,65,85,100)], dtype=persontype)\n",
    "peoples"
   ]
  },
  {
   "cell_type": "code",
   "execution_count": 11,
   "metadata": {},
   "outputs": [
    {
     "name": "stdout",
     "output_type": "stream",
     "text": [
      "28.25\n"
     ]
    }
   ],
   "source": [
    "ages = peoples[:]['age']\n",
    "print(np.mean(ages))"
   ]
  },
  {
   "cell_type": "markdown",
   "metadata": {},
   "source": [
    "### 连续数组的创建"
   ]
  },
  {
   "cell_type": "code",
   "execution_count": 13,
   "metadata": {},
   "outputs": [
    {
     "data": {
      "text/plain": [
       "array([1, 3, 5, 7, 9])"
      ]
     },
     "execution_count": 13,
     "metadata": {},
     "output_type": "execute_result"
    }
   ],
   "source": [
    "x1 = np.arange(1,11,2)\n",
    "x1"
   ]
  },
  {
   "cell_type": "code",
   "execution_count": 14,
   "metadata": {},
   "outputs": [
    {
     "data": {
      "text/plain": [
       "array([1., 3., 5., 7., 9.])"
      ]
     },
     "execution_count": 14,
     "metadata": {},
     "output_type": "execute_result"
    }
   ],
   "source": [
    "x2 = np.linspace(1,9,5)\n",
    "x2"
   ]
  },
  {
   "cell_type": "markdown",
   "metadata": {},
   "source": [
    "#### 数组之间的运算"
   ]
  },
  {
   "cell_type": "code",
   "execution_count": 16,
   "metadata": {},
   "outputs": [
    {
     "name": "stdout",
     "output_type": "stream",
     "text": [
      "[ 2.  6. 10. 14. 18.]\n",
      "[0. 0. 0. 0. 0.]\n",
      "[ 1.  9. 25. 49. 81.]\n",
      "[1. 1. 1. 1. 1.]\n",
      "[1.00000000e+00 2.70000000e+01 3.12500000e+03 8.23543000e+05\n",
      " 3.87420489e+08]\n",
      "[0. 0. 0. 0. 0.]\n"
     ]
    }
   ],
   "source": [
    "print(np.add(x1,x2))\n",
    "print(np.subtract(x1,x2))\n",
    "print(np.multiply(x1,x2))\n",
    "print(np.divide(x1,x2))\n",
    "print(np.power(x1,x2))\n",
    "print(np.remainder(x1,x2))"
   ]
  },
  {
   "cell_type": "markdown",
   "metadata": {},
   "source": [
    "### 统计函数"
   ]
  },
  {
   "cell_type": "code",
   "execution_count": 18,
   "metadata": {},
   "outputs": [
    {
     "data": {
      "text/plain": [
       "array([[1, 3, 2],\n",
       "       [4, 5, 6],\n",
       "       [9, 8, 7]])"
      ]
     },
     "execution_count": 18,
     "metadata": {},
     "output_type": "execute_result"
    }
   ],
   "source": [
    "a = np.array([[1, 3, 2], [4, 5, 6], [9, 8, 7]])\n",
    "a"
   ]
  },
  {
   "cell_type": "markdown",
   "metadata": {},
   "source": [
    "#### 最大最小值"
   ]
  },
  {
   "cell_type": "code",
   "execution_count": 23,
   "metadata": {},
   "outputs": [
    {
     "name": "stdout",
     "output_type": "stream",
     "text": [
      "9\n",
      "[9 8 7]\n",
      "[3 6 9]\n",
      "[1 4 7]\n",
      "8\n",
      "[8 5 5]\n"
     ]
    }
   ],
   "source": [
    "print(np.amax(a))\n",
    "print(np.amax(a,0)) #axis=0 是跨行（纵向），axis=1 是跨列（横向）\n",
    "print(np.amax(a,1))\n",
    "print(np.amin(a,1))\n",
    "print(np.ptp(a)) # 最大最小差值\n",
    "print(np.ptp(a,0)) "
   ]
  },
  {
   "cell_type": "markdown",
   "metadata": {},
   "source": [
    "#### 统计数组的百分位数 percentile()\\中位数 median()、平均数 mean()"
   ]
  },
  {
   "cell_type": "code",
   "execution_count": 25,
   "metadata": {},
   "outputs": [
    {
     "name": "stdout",
     "output_type": "stream",
     "text": [
      "5.0\n",
      "[4. 5. 6.]\n"
     ]
    }
   ],
   "source": [
    "print(np.percentile(a,50))\n",
    "print(np.percentile(a,50,axis=0))"
   ]
  },
  {
   "cell_type": "code",
   "execution_count": 28,
   "metadata": {},
   "outputs": [
    {
     "name": "stdout",
     "output_type": "stream",
     "text": [
      "5.0\n",
      "[4.66666667 5.33333333 5.        ]\n",
      "[2. 5. 8.]\n",
      "5.0\n",
      "[4. 5. 6.]\n",
      "[2. 5. 8.]\n"
     ]
    }
   ],
   "source": [
    "print(np.mean(a))\n",
    "print(np.mean(a,axis=0))\n",
    "print(np.mean(a,axis=1))\n",
    "print(np.median(a))\n",
    "print(np.median(a,axis=0))\n",
    "print(np.median(a,axis=1))"
   ]
  },
  {
   "cell_type": "markdown",
   "metadata": {},
   "source": [
    "#### 加权平均值 average()\\标准差 std()、方差 var()"
   ]
  },
  {
   "cell_type": "code",
   "execution_count": 30,
   "metadata": {},
   "outputs": [
    {
     "name": "stdout",
     "output_type": "stream",
     "text": [
      "2.5\n",
      "3.0\n"
     ]
    }
   ],
   "source": [
    "a = np.array([1,2,3,4])\n",
    "wts = np.array([1,2,3,4])\n",
    "print(np.average(a))\n",
    "print(np.average(a,weights=wts))"
   ]
  },
  {
   "cell_type": "code",
   "execution_count": 32,
   "metadata": {},
   "outputs": [
    {
     "name": "stdout",
     "output_type": "stream",
     "text": [
      "1.118033988749895\n",
      "1.25\n"
     ]
    }
   ],
   "source": [
    "print(np.std(a))\n",
    "print(np.var(a))"
   ]
  },
  {
   "cell_type": "markdown",
   "metadata": {},
   "source": [
    "#### NumPy 排序"
   ]
  },
  {
   "cell_type": "code",
   "execution_count": 36,
   "metadata": {},
   "outputs": [
    {
     "name": "stdout",
     "output_type": "stream",
     "text": [
      "[[2 3 4]\n",
      " [1 2 4]]\n",
      "[1 2 2 3 4 4]\n",
      "[[2 3 1]\n",
      " [4 4 2]]\n"
     ]
    }
   ],
   "source": [
    "a = np.array([[4,3,2],[2,4,1]])\n",
    "print(np.sort(a))\n",
    "print(np.sort(a,axis=None))\n",
    "print(np.sort(a,axis=0))"
   ]
  },
  {
   "cell_type": "code",
   "execution_count": null,
   "metadata": {},
   "outputs": [],
   "source": []
  }
 ],
 "metadata": {
  "kernelspec": {
   "display_name": "Python 3",
   "language": "python",
   "name": "python3"
  },
  "language_info": {
   "codemirror_mode": {
    "name": "ipython",
    "version": 3
   },
   "file_extension": ".py",
   "mimetype": "text/x-python",
   "name": "python",
   "nbconvert_exporter": "python",
   "pygments_lexer": "ipython3",
   "version": "3.7.4"
  }
 },
 "nbformat": 4,
 "nbformat_minor": 2
}
